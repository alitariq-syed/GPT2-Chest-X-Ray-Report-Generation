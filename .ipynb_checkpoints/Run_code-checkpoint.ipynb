{
 "cells": [
  {
   "cell_type": "code",
   "execution_count": 1,
   "id": "3fb4511e",
   "metadata": {},
   "outputs": [
    {
     "name": "stdout",
     "output_type": "stream",
     "text": [
      "path already exists\n",
      "Found 104 reports with no associated image\n",
      "Found 25 reports with empty Impression and Findings sections\n",
      "Found 6 reports with no Impression section\n",
      "Found 489 reports with no Findings section\n",
      "Collected 7430 image-caption pairs\n"
     ]
    }
   ],
   "source": [
    "!python get_iu_xray.py"
   ]
  },
  {
   "cell_type": "code",
   "execution_count": null,
   "id": "f5d09441",
   "metadata": {},
   "outputs": [],
   "source": [
    "#!python train.py\n",
    "%run -i python train.py"
   ]
  },
  {
   "cell_type": "code",
   "execution_count": null,
   "id": "0e4492b9",
   "metadata": {},
   "outputs": [],
   "source": []
  }
 ],
 "metadata": {
  "kernelspec": {
   "display_name": "Python 3 (ipykernel)",
   "language": "python",
   "name": "python3"
  },
  "language_info": {
   "codemirror_mode": {
    "name": "ipython",
    "version": 3
   },
   "file_extension": ".py",
   "mimetype": "text/x-python",
   "name": "python",
   "nbconvert_exporter": "python",
   "pygments_lexer": "ipython3",
   "version": "3.8.12"
  }
 },
 "nbformat": 4,
 "nbformat_minor": 5
}
